{
 "cells": [
  {
   "cell_type": "markdown",
   "id": "10857dce",
   "metadata": {
    "id": "ZKbu-pJeWYvg",
    "papermill": {
     "duration": 0.009667,
     "end_time": "2022-07-07T10:04:23.372876",
     "exception": false,
     "start_time": "2022-07-07T10:04:23.363209",
     "status": "completed"
    },
    "tags": []
   },
   "source": [
    "# Auto mpg\n",
    "## Improve a neural network with regularisation"
   ]
  },
  {
   "cell_type": "code",
   "execution_count": 1,
   "id": "c2aabddb",
   "metadata": {
    "execution": {
     "iopub.execute_input": "2022-07-07T10:04:23.393130Z",
     "iopub.status.busy": "2022-07-07T10:04:23.392022Z",
     "iopub.status.idle": "2022-07-07T10:04:24.695355Z",
     "shell.execute_reply": "2022-07-07T10:04:24.694029Z"
    },
    "id": "aVfQP0N9WYvk",
    "papermill": {
     "duration": 1.317186,
     "end_time": "2022-07-07T10:04:24.698711",
     "exception": false,
     "start_time": "2022-07-07T10:04:23.381525",
     "status": "completed"
    },
    "tags": []
   },
   "outputs": [],
   "source": [
    "# Import libraries\n",
    "import pandas as pd\n",
    "from sklearn.preprocessing import StandardScaler\n",
    "from sklearn.neural_network import MLPRegressor\n",
    "from sklearn.model_selection import train_test_split, cross_val_score\n",
    "from sklearn.metrics import mean_squared_error\n",
    "import matplotlib.pyplot as plt\n",
    "import numpy as np\n",
    "import itertools\n",
    "import seaborn as sns"
   ]
  },
  {
   "cell_type": "code",
   "execution_count": 2,
   "id": "6c9a65b3",
   "metadata": {
    "execution": {
     "iopub.execute_input": "2022-07-07T10:04:24.720121Z",
     "iopub.status.busy": "2022-07-07T10:04:24.718944Z",
     "iopub.status.idle": "2022-07-07T10:04:24.751235Z",
     "shell.execute_reply": "2022-07-07T10:04:24.750020Z"
    },
    "id": "qezUc3xFWYvn",
    "papermill": {
     "duration": 0.046353,
     "end_time": "2022-07-07T10:04:24.754242",
     "exception": false,
     "start_time": "2022-07-07T10:04:24.707889",
     "status": "completed"
    },
    "tags": []
   },
   "outputs": [],
   "source": [
    "# Import data\n",
    "df = pd.read_csv('../input/auto-mpg-dataset/auto-mpg.csv', delimiter = \",\")\n",
    "\n",
    "# Drop missing entries\n",
    "df = df.replace(\"?\", np.nan)\n",
    "df = df.dropna()"
   ]
  },
  {
   "cell_type": "code",
   "execution_count": 3,
   "id": "8f7d6cb7",
   "metadata": {
    "execution": {
     "iopub.execute_input": "2022-07-07T10:04:24.773956Z",
     "iopub.status.busy": "2022-07-07T10:04:24.772795Z",
     "iopub.status.idle": "2022-07-07T10:04:24.782477Z",
     "shell.execute_reply": "2022-07-07T10:04:24.781347Z"
    },
    "id": "mE2OMP4xWYvp",
    "outputId": "2e8af59b-f56f-43bc-ddc2-f56441cdeb00",
    "papermill": {
     "duration": 0.021988,
     "end_time": "2022-07-07T10:04:24.784845",
     "exception": false,
     "start_time": "2022-07-07T10:04:24.762857",
     "status": "completed"
    },
    "tags": []
   },
   "outputs": [
    {
     "data": {
      "text/plain": [
       "(392, 9)"
      ]
     },
     "execution_count": 3,
     "metadata": {},
     "output_type": "execute_result"
    }
   ],
   "source": [
    "# Explore the size of the data set\n",
    "df.shape "
   ]
  },
  {
   "cell_type": "code",
   "execution_count": 4,
   "id": "3431d98a",
   "metadata": {
    "execution": {
     "iopub.execute_input": "2022-07-07T10:04:24.804256Z",
     "iopub.status.busy": "2022-07-07T10:04:24.803123Z",
     "iopub.status.idle": "2022-07-07T10:04:24.827279Z",
     "shell.execute_reply": "2022-07-07T10:04:24.826111Z"
    },
    "id": "aWzLsNMqWYvs",
    "outputId": "05bb75ea-fc18-4e65-86f8-8fe27faeec05",
    "papermill": {
     "duration": 0.036334,
     "end_time": "2022-07-07T10:04:24.829572",
     "exception": false,
     "start_time": "2022-07-07T10:04:24.793238",
     "status": "completed"
    },
    "tags": []
   },
   "outputs": [
    {
     "data": {
      "text/html": [
       "<div>\n",
       "<style scoped>\n",
       "    .dataframe tbody tr th:only-of-type {\n",
       "        vertical-align: middle;\n",
       "    }\n",
       "\n",
       "    .dataframe tbody tr th {\n",
       "        vertical-align: top;\n",
       "    }\n",
       "\n",
       "    .dataframe thead th {\n",
       "        text-align: right;\n",
       "    }\n",
       "</style>\n",
       "<table border=\"1\" class=\"dataframe\">\n",
       "  <thead>\n",
       "    <tr style=\"text-align: right;\">\n",
       "      <th></th>\n",
       "      <th>mpg</th>\n",
       "      <th>cylinders</th>\n",
       "      <th>displacement</th>\n",
       "      <th>horsepower</th>\n",
       "      <th>weight</th>\n",
       "      <th>acceleration</th>\n",
       "      <th>model year</th>\n",
       "      <th>origin</th>\n",
       "      <th>car name</th>\n",
       "    </tr>\n",
       "  </thead>\n",
       "  <tbody>\n",
       "    <tr>\n",
       "      <th>134</th>\n",
       "      <td>16.0</td>\n",
       "      <td>6</td>\n",
       "      <td>258.0</td>\n",
       "      <td>110</td>\n",
       "      <td>3632</td>\n",
       "      <td>18.0</td>\n",
       "      <td>74</td>\n",
       "      <td>1</td>\n",
       "      <td>amc matador</td>\n",
       "    </tr>\n",
       "    <tr>\n",
       "      <th>225</th>\n",
       "      <td>17.5</td>\n",
       "      <td>6</td>\n",
       "      <td>250.0</td>\n",
       "      <td>110</td>\n",
       "      <td>3520</td>\n",
       "      <td>16.4</td>\n",
       "      <td>77</td>\n",
       "      <td>1</td>\n",
       "      <td>chevrolet concours</td>\n",
       "    </tr>\n",
       "    <tr>\n",
       "      <th>150</th>\n",
       "      <td>26.0</td>\n",
       "      <td>4</td>\n",
       "      <td>108.0</td>\n",
       "      <td>93</td>\n",
       "      <td>2391</td>\n",
       "      <td>15.5</td>\n",
       "      <td>74</td>\n",
       "      <td>3</td>\n",
       "      <td>subaru</td>\n",
       "    </tr>\n",
       "    <tr>\n",
       "      <th>14</th>\n",
       "      <td>24.0</td>\n",
       "      <td>4</td>\n",
       "      <td>113.0</td>\n",
       "      <td>95</td>\n",
       "      <td>2372</td>\n",
       "      <td>15.0</td>\n",
       "      <td>70</td>\n",
       "      <td>3</td>\n",
       "      <td>toyota corona mark ii</td>\n",
       "    </tr>\n",
       "    <tr>\n",
       "      <th>396</th>\n",
       "      <td>28.0</td>\n",
       "      <td>4</td>\n",
       "      <td>120.0</td>\n",
       "      <td>79</td>\n",
       "      <td>2625</td>\n",
       "      <td>18.6</td>\n",
       "      <td>82</td>\n",
       "      <td>1</td>\n",
       "      <td>ford ranger</td>\n",
       "    </tr>\n",
       "    <tr>\n",
       "      <th>260</th>\n",
       "      <td>18.6</td>\n",
       "      <td>6</td>\n",
       "      <td>225.0</td>\n",
       "      <td>110</td>\n",
       "      <td>3620</td>\n",
       "      <td>18.7</td>\n",
       "      <td>78</td>\n",
       "      <td>1</td>\n",
       "      <td>dodge aspen</td>\n",
       "    </tr>\n",
       "    <tr>\n",
       "      <th>222</th>\n",
       "      <td>17.0</td>\n",
       "      <td>8</td>\n",
       "      <td>260.0</td>\n",
       "      <td>110</td>\n",
       "      <td>4060</td>\n",
       "      <td>19.0</td>\n",
       "      <td>77</td>\n",
       "      <td>1</td>\n",
       "      <td>oldsmobile cutlass supreme</td>\n",
       "    </tr>\n",
       "    <tr>\n",
       "      <th>237</th>\n",
       "      <td>30.5</td>\n",
       "      <td>4</td>\n",
       "      <td>98.0</td>\n",
       "      <td>63</td>\n",
       "      <td>2051</td>\n",
       "      <td>17.0</td>\n",
       "      <td>77</td>\n",
       "      <td>1</td>\n",
       "      <td>chevrolet chevette</td>\n",
       "    </tr>\n",
       "    <tr>\n",
       "      <th>165</th>\n",
       "      <td>20.0</td>\n",
       "      <td>8</td>\n",
       "      <td>262.0</td>\n",
       "      <td>110</td>\n",
       "      <td>3221</td>\n",
       "      <td>13.5</td>\n",
       "      <td>75</td>\n",
       "      <td>1</td>\n",
       "      <td>chevrolet monza 2+2</td>\n",
       "    </tr>\n",
       "    <tr>\n",
       "      <th>337</th>\n",
       "      <td>32.4</td>\n",
       "      <td>4</td>\n",
       "      <td>107.0</td>\n",
       "      <td>72</td>\n",
       "      <td>2290</td>\n",
       "      <td>17.0</td>\n",
       "      <td>80</td>\n",
       "      <td>3</td>\n",
       "      <td>honda accord</td>\n",
       "    </tr>\n",
       "  </tbody>\n",
       "</table>\n",
       "</div>"
      ],
      "text/plain": [
       "      mpg  cylinders  displacement horsepower  weight  acceleration  \\\n",
       "134  16.0          6         258.0        110    3632          18.0   \n",
       "225  17.5          6         250.0        110    3520          16.4   \n",
       "150  26.0          4         108.0         93    2391          15.5   \n",
       "14   24.0          4         113.0         95    2372          15.0   \n",
       "396  28.0          4         120.0         79    2625          18.6   \n",
       "260  18.6          6         225.0        110    3620          18.7   \n",
       "222  17.0          8         260.0        110    4060          19.0   \n",
       "237  30.5          4          98.0         63    2051          17.0   \n",
       "165  20.0          8         262.0        110    3221          13.5   \n",
       "337  32.4          4         107.0         72    2290          17.0   \n",
       "\n",
       "     model year  origin                    car name  \n",
       "134          74       1                 amc matador  \n",
       "225          77       1          chevrolet concours  \n",
       "150          74       3                      subaru  \n",
       "14           70       3       toyota corona mark ii  \n",
       "396          82       1                 ford ranger  \n",
       "260          78       1                 dodge aspen  \n",
       "222          77       1  oldsmobile cutlass supreme  \n",
       "237          77       1          chevrolet chevette  \n",
       "165          75       1         chevrolet monza 2+2  \n",
       "337          80       3                honda accord  "
      ]
     },
     "execution_count": 4,
     "metadata": {},
     "output_type": "execute_result"
    }
   ],
   "source": [
    "# Explore type of data and feature names\n",
    "#df.head() or \n",
    "df.sample(10)"
   ]
  },
  {
   "cell_type": "code",
   "execution_count": 5,
   "id": "881271c8",
   "metadata": {
    "execution": {
     "iopub.execute_input": "2022-07-07T10:04:24.850006Z",
     "iopub.status.busy": "2022-07-07T10:04:24.848998Z",
     "iopub.status.idle": "2022-07-07T10:04:24.857387Z",
     "shell.execute_reply": "2022-07-07T10:04:24.856332Z"
    },
    "papermill": {
     "duration": 0.021076,
     "end_time": "2022-07-07T10:04:24.859663",
     "exception": false,
     "start_time": "2022-07-07T10:04:24.838587",
     "status": "completed"
    },
    "tags": []
   },
   "outputs": [
    {
     "data": {
      "text/plain": [
       "mpg             float64\n",
       "cylinders         int64\n",
       "displacement    float64\n",
       "horsepower       object\n",
       "weight            int64\n",
       "acceleration    float64\n",
       "model year        int64\n",
       "origin            int64\n",
       "car name         object\n",
       "dtype: object"
      ]
     },
     "execution_count": 5,
     "metadata": {},
     "output_type": "execute_result"
    }
   ],
   "source": [
    "df.dtypes"
   ]
  },
  {
   "cell_type": "code",
   "execution_count": 6,
   "id": "e88248a7",
   "metadata": {
    "execution": {
     "iopub.execute_input": "2022-07-07T10:04:24.879189Z",
     "iopub.status.busy": "2022-07-07T10:04:24.878783Z",
     "iopub.status.idle": "2022-07-07T10:04:24.894698Z",
     "shell.execute_reply": "2022-07-07T10:04:24.893542Z"
    },
    "papermill": {
     "duration": 0.028508,
     "end_time": "2022-07-07T10:04:24.897039",
     "exception": false,
     "start_time": "2022-07-07T10:04:24.868531",
     "status": "completed"
    },
    "tags": []
   },
   "outputs": [
    {
     "name": "stdout",
     "output_type": "stream",
     "text": [
      "number of duplicate rows:  (0, 9)\n"
     ]
    }
   ],
   "source": [
    "duplicate_rows_df=df[df.duplicated()]\n",
    "print (\"number of duplicate rows: \", duplicate_rows_df.shape)"
   ]
  },
  {
   "cell_type": "code",
   "execution_count": 7,
   "id": "eee84624",
   "metadata": {
    "execution": {
     "iopub.execute_input": "2022-07-07T10:04:24.916950Z",
     "iopub.status.busy": "2022-07-07T10:04:24.916531Z",
     "iopub.status.idle": "2022-07-07T10:04:25.446565Z",
     "shell.execute_reply": "2022-07-07T10:04:25.445377Z"
    },
    "papermill": {
     "duration": 0.543677,
     "end_time": "2022-07-07T10:04:25.449739",
     "exception": false,
     "start_time": "2022-07-07T10:04:24.906062",
     "status": "completed"
    },
    "scrolled": true,
    "tags": []
   },
   "outputs": [
    {
     "data": {
      "text/html": [
       "<div>\n",
       "<style scoped>\n",
       "    .dataframe tbody tr th:only-of-type {\n",
       "        vertical-align: middle;\n",
       "    }\n",
       "\n",
       "    .dataframe tbody tr th {\n",
       "        vertical-align: top;\n",
       "    }\n",
       "\n",
       "    .dataframe thead th {\n",
       "        text-align: right;\n",
       "    }\n",
       "</style>\n",
       "<table border=\"1\" class=\"dataframe\">\n",
       "  <thead>\n",
       "    <tr style=\"text-align: right;\">\n",
       "      <th></th>\n",
       "      <th>mpg</th>\n",
       "      <th>cylinders</th>\n",
       "      <th>displacement</th>\n",
       "      <th>weight</th>\n",
       "      <th>acceleration</th>\n",
       "      <th>model year</th>\n",
       "      <th>origin</th>\n",
       "    </tr>\n",
       "  </thead>\n",
       "  <tbody>\n",
       "    <tr>\n",
       "      <th>mpg</th>\n",
       "      <td>1.000000</td>\n",
       "      <td>-0.777618</td>\n",
       "      <td>-0.805127</td>\n",
       "      <td>-0.832244</td>\n",
       "      <td>0.423329</td>\n",
       "      <td>0.580541</td>\n",
       "      <td>0.565209</td>\n",
       "    </tr>\n",
       "    <tr>\n",
       "      <th>cylinders</th>\n",
       "      <td>-0.777618</td>\n",
       "      <td>1.000000</td>\n",
       "      <td>0.950823</td>\n",
       "      <td>0.897527</td>\n",
       "      <td>-0.504683</td>\n",
       "      <td>-0.345647</td>\n",
       "      <td>-0.568932</td>\n",
       "    </tr>\n",
       "    <tr>\n",
       "      <th>displacement</th>\n",
       "      <td>-0.805127</td>\n",
       "      <td>0.950823</td>\n",
       "      <td>1.000000</td>\n",
       "      <td>0.932994</td>\n",
       "      <td>-0.543800</td>\n",
       "      <td>-0.369855</td>\n",
       "      <td>-0.614535</td>\n",
       "    </tr>\n",
       "    <tr>\n",
       "      <th>weight</th>\n",
       "      <td>-0.832244</td>\n",
       "      <td>0.897527</td>\n",
       "      <td>0.932994</td>\n",
       "      <td>1.000000</td>\n",
       "      <td>-0.416839</td>\n",
       "      <td>-0.309120</td>\n",
       "      <td>-0.585005</td>\n",
       "    </tr>\n",
       "    <tr>\n",
       "      <th>acceleration</th>\n",
       "      <td>0.423329</td>\n",
       "      <td>-0.504683</td>\n",
       "      <td>-0.543800</td>\n",
       "      <td>-0.416839</td>\n",
       "      <td>1.000000</td>\n",
       "      <td>0.290316</td>\n",
       "      <td>0.212746</td>\n",
       "    </tr>\n",
       "    <tr>\n",
       "      <th>model year</th>\n",
       "      <td>0.580541</td>\n",
       "      <td>-0.345647</td>\n",
       "      <td>-0.369855</td>\n",
       "      <td>-0.309120</td>\n",
       "      <td>0.290316</td>\n",
       "      <td>1.000000</td>\n",
       "      <td>0.181528</td>\n",
       "    </tr>\n",
       "    <tr>\n",
       "      <th>origin</th>\n",
       "      <td>0.565209</td>\n",
       "      <td>-0.568932</td>\n",
       "      <td>-0.614535</td>\n",
       "      <td>-0.585005</td>\n",
       "      <td>0.212746</td>\n",
       "      <td>0.181528</td>\n",
       "      <td>1.000000</td>\n",
       "    </tr>\n",
       "  </tbody>\n",
       "</table>\n",
       "</div>"
      ],
      "text/plain": [
       "                   mpg  cylinders  displacement    weight  acceleration  \\\n",
       "mpg           1.000000  -0.777618     -0.805127 -0.832244      0.423329   \n",
       "cylinders    -0.777618   1.000000      0.950823  0.897527     -0.504683   \n",
       "displacement -0.805127   0.950823      1.000000  0.932994     -0.543800   \n",
       "weight       -0.832244   0.897527      0.932994  1.000000     -0.416839   \n",
       "acceleration  0.423329  -0.504683     -0.543800 -0.416839      1.000000   \n",
       "model year    0.580541  -0.345647     -0.369855 -0.309120      0.290316   \n",
       "origin        0.565209  -0.568932     -0.614535 -0.585005      0.212746   \n",
       "\n",
       "              model year    origin  \n",
       "mpg             0.580541  0.565209  \n",
       "cylinders      -0.345647 -0.568932  \n",
       "displacement   -0.369855 -0.614535  \n",
       "weight         -0.309120 -0.585005  \n",
       "acceleration    0.290316  0.212746  \n",
       "model year      1.000000  0.181528  \n",
       "origin          0.181528  1.000000  "
      ]
     },
     "execution_count": 7,
     "metadata": {},
     "output_type": "execute_result"
    },
    {
     "data": {
      "image/png": "[encoded data removed]",
      "text/plain": [
       "<Figure size 720x360 with 2 Axes>"
      ]
     },
     "metadata": {
      "needs_background": "light"
     },
     "output_type": "display_data"
    }
   ],
   "source": [
    "plt.figure(figsize=(10,5))\n",
    "c=df.corr()\n",
    "sns.heatmap(c, cmap=\"BrBG\", annot=True)\n",
    "c"
   ]
  },
  {
   "cell_type": "code",
   "execution_count": 8,
   "id": "4beb5dc5",
   "metadata": {
    "execution": {
     "iopub.execute_input": "2022-07-07T10:04:25.472327Z",
     "iopub.status.busy": "2022-07-07T10:04:25.471241Z",
     "iopub.status.idle": "2022-07-07T10:04:25.477031Z",
     "shell.execute_reply": "2022-07-07T10:04:25.475736Z"
    },
    "papermill": {
     "duration": 0.019582,
     "end_time": "2022-07-07T10:04:25.479399",
     "exception": false,
     "start_time": "2022-07-07T10:04:25.459817",
     "status": "completed"
    },
    "tags": []
   },
   "outputs": [],
   "source": [
    "plt.show()"
   ]
  },
  {
   "cell_type": "code",
   "execution_count": 9,
   "id": "093a1be4",
   "metadata": {
    "execution": {
     "iopub.execute_input": "2022-07-07T10:04:25.503252Z",
     "iopub.status.busy": "2022-07-07T10:04:25.502512Z",
     "iopub.status.idle": "2022-07-07T10:04:25.508078Z",
     "shell.execute_reply": "2022-07-07T10:04:25.507348Z"
    },
    "id": "cailT0GvWYvv",
    "papermill": {
     "duration": 0.019268,
     "end_time": "2022-07-07T10:04:25.510097",
     "exception": false,
     "start_time": "2022-07-07T10:04:25.490829",
     "status": "completed"
    },
    "tags": []
   },
   "outputs": [],
   "source": [
    "# Split data into features (X) and response (y)\n",
    "# Predict mpg vs other variables (excluding car name)\n",
    "X = df.iloc[:, 1:8] \n",
    "y = df.iloc[:, 0]"
   ]
  },
  {
   "cell_type": "code",
   "execution_count": 10,
   "id": "4bdf27aa",
   "metadata": {
    "execution": {
     "iopub.execute_input": "2022-07-07T10:04:25.533160Z",
     "iopub.status.busy": "2022-07-07T10:04:25.532392Z",
     "iopub.status.idle": "2022-07-07T10:04:25.546270Z",
     "shell.execute_reply": "2022-07-07T10:04:25.545419Z"
    },
    "id": "nq28a2CCWYvx",
    "outputId": "0101aad8-25ef-42e6-e7bd-d1cc49f9798b",
    "papermill": {
     "duration": 0.028238,
     "end_time": "2022-07-07T10:04:25.548505",
     "exception": false,
     "start_time": "2022-07-07T10:04:25.520267",
     "status": "completed"
    },
    "tags": []
   },
   "outputs": [
    {
     "data": {
      "text/html": [
       "<div>\n",
       "<style scoped>\n",
       "    .dataframe tbody tr th:only-of-type {\n",
       "        vertical-align: middle;\n",
       "    }\n",
       "\n",
       "    .dataframe tbody tr th {\n",
       "        vertical-align: top;\n",
       "    }\n",
       "\n",
       "    .dataframe thead th {\n",
       "        text-align: right;\n",
       "    }\n",
       "</style>\n",
       "<table border=\"1\" class=\"dataframe\">\n",
       "  <thead>\n",
       "    <tr style=\"text-align: right;\">\n",
       "      <th></th>\n",
       "      <th>cylinders</th>\n",
       "      <th>displacement</th>\n",
       "      <th>horsepower</th>\n",
       "      <th>weight</th>\n",
       "      <th>acceleration</th>\n",
       "      <th>model year</th>\n",
       "      <th>origin</th>\n",
       "    </tr>\n",
       "  </thead>\n",
       "  <tbody>\n",
       "    <tr>\n",
       "      <th>0</th>\n",
       "      <td>8</td>\n",
       "      <td>307.0</td>\n",
       "      <td>130</td>\n",
       "      <td>3504</td>\n",
       "      <td>12.0</td>\n",
       "      <td>70</td>\n",
       "      <td>1</td>\n",
       "    </tr>\n",
       "    <tr>\n",
       "      <th>1</th>\n",
       "      <td>8</td>\n",
       "      <td>350.0</td>\n",
       "      <td>165</td>\n",
       "      <td>3693</td>\n",
       "      <td>11.5</td>\n",
       "      <td>70</td>\n",
       "      <td>1</td>\n",
       "    </tr>\n",
       "    <tr>\n",
       "      <th>2</th>\n",
       "      <td>8</td>\n",
       "      <td>318.0</td>\n",
       "      <td>150</td>\n",
       "      <td>3436</td>\n",
       "      <td>11.0</td>\n",
       "      <td>70</td>\n",
       "      <td>1</td>\n",
       "    </tr>\n",
       "    <tr>\n",
       "      <th>3</th>\n",
       "      <td>8</td>\n",
       "      <td>304.0</td>\n",
       "      <td>150</td>\n",
       "      <td>3433</td>\n",
       "      <td>12.0</td>\n",
       "      <td>70</td>\n",
       "      <td>1</td>\n",
       "    </tr>\n",
       "    <tr>\n",
       "      <th>4</th>\n",
       "      <td>8</td>\n",
       "      <td>302.0</td>\n",
       "      <td>140</td>\n",
       "      <td>3449</td>\n",
       "      <td>10.5</td>\n",
       "      <td>70</td>\n",
       "      <td>1</td>\n",
       "    </tr>\n",
       "  </tbody>\n",
       "</table>\n",
       "</div>"
      ],
      "text/plain": [
       "   cylinders  displacement horsepower  weight  acceleration  model year  \\\n",
       "0          8         307.0        130    3504          12.0          70   \n",
       "1          8         350.0        165    3693          11.5          70   \n",
       "2          8         318.0        150    3436          11.0          70   \n",
       "3          8         304.0        150    3433          12.0          70   \n",
       "4          8         302.0        140    3449          10.5          70   \n",
       "\n",
       "   origin  \n",
       "0       1  \n",
       "1       1  \n",
       "2       1  \n",
       "3       1  \n",
       "4       1  "
      ]
     },
     "execution_count": 10,
     "metadata": {},
     "output_type": "execute_result"
    }
   ],
   "source": [
    "X.head()"
   ]
  },
  {
   "cell_type": "code",
   "execution_count": 11,
   "id": "f0f2ecc3",
   "metadata": {
    "execution": {
     "iopub.execute_input": "2022-07-07T10:04:25.572422Z",
     "iopub.status.busy": "2022-07-07T10:04:25.571610Z",
     "iopub.status.idle": "2022-07-07T10:04:25.579630Z",
     "shell.execute_reply": "2022-07-07T10:04:25.578503Z"
    },
    "id": "pczly2W5WYvz",
    "outputId": "66f8e7cc-07d0-4737-846d-56aa678f6d27",
    "papermill": {
     "duration": 0.022576,
     "end_time": "2022-07-07T10:04:25.581820",
     "exception": false,
     "start_time": "2022-07-07T10:04:25.559244",
     "status": "completed"
    },
    "tags": []
   },
   "outputs": [
    {
     "data": {
      "text/plain": [
       "0    18.0\n",
       "1    15.0\n",
       "2    18.0\n",
       "3    16.0\n",
       "4    17.0\n",
       "Name: mpg, dtype: float64"
      ]
     },
     "execution_count": 11,
     "metadata": {},
     "output_type": "execute_result"
    }
   ],
   "source": [
    "y.head()"
   ]
  },
  {
   "cell_type": "code",
   "execution_count": 12,
   "id": "28132fcd",
   "metadata": {
    "execution": {
     "iopub.execute_input": "2022-07-07T10:04:25.605550Z",
     "iopub.status.busy": "2022-07-07T10:04:25.604825Z",
     "iopub.status.idle": "2022-07-07T10:04:25.608987Z",
     "shell.execute_reply": "2022-07-07T10:04:25.608275Z"
    },
    "id": "2sailnW2WYv1",
    "papermill": {
     "duration": 0.018291,
     "end_time": "2022-07-07T10:04:25.610929",
     "exception": false,
     "start_time": "2022-07-07T10:04:25.592638",
     "status": "completed"
    },
    "tags": []
   },
   "outputs": [],
   "source": [
    "# Put the response y into an array\n",
    "y = np.ravel(y)"
   ]
  },
  {
   "cell_type": "code",
   "execution_count": 13,
   "id": "ca5053ed",
   "metadata": {
    "execution": {
     "iopub.execute_input": "2022-07-07T10:04:25.634673Z",
     "iopub.status.busy": "2022-07-07T10:04:25.633859Z",
     "iopub.status.idle": "2022-07-07T10:04:25.640026Z",
     "shell.execute_reply": "2022-07-07T10:04:25.639266Z"
    },
    "id": "ESbDHQI1WYv3",
    "papermill": {
     "duration": 0.020636,
     "end_time": "2022-07-07T10:04:25.642175",
     "exception": false,
     "start_time": "2022-07-07T10:04:25.621539",
     "status": "completed"
    },
    "tags": []
   },
   "outputs": [],
   "source": [
    "# Split the data into the training and testing sets\n",
    "X_train, X_test, y_train, y_test = train_test_split(X, y, random_state=0)"
   ]
  },
  {
   "cell_type": "code",
   "execution_count": 14,
   "id": "54e0204a",
   "metadata": {
    "execution": {
     "iopub.execute_input": "2022-07-07T10:04:25.665863Z",
     "iopub.status.busy": "2022-07-07T10:04:25.664972Z",
     "iopub.status.idle": "2022-07-07T10:04:25.677113Z",
     "shell.execute_reply": "2022-07-07T10:04:25.676280Z"
    },
    "id": "-LPnrh79WYv5",
    "papermill": {
     "duration": 0.026609,
     "end_time": "2022-07-07T10:04:25.679410",
     "exception": false,
     "start_time": "2022-07-07T10:04:25.652801",
     "status": "completed"
    },
    "tags": []
   },
   "outputs": [],
   "source": [
    "# Scale data\n",
    "scaler = StandardScaler()  \n",
    "\n",
    "# Fit using only the training data\n",
    "scaler.fit(X_train)  \n",
    "X_train = scaler.transform(X_train) \n",
    "\n",
    "# Apply the same transformation to test data\n",
    "X_test = scaler.transform(X_test)"
   ]
  },
  {
   "cell_type": "markdown",
   "id": "1783ef2e",
   "metadata": {
    "id": "6cc1Hiy-wv9g",
    "papermill": {
     "duration": 0.010712,
     "end_time": "2022-07-07T10:04:25.700736",
     "exception": false,
     "start_time": "2022-07-07T10:04:25.690024",
     "status": "completed"
    },
    "tags": []
   },
   "source": [
    "### Before regularisation"
   ]
  },
  {
   "cell_type": "markdown",
   "id": "b64d5a92",
   "metadata": {
    "id": "aQY6iYfkWYv7",
    "papermill": {
     "duration": 0.010278,
     "end_time": "2022-07-07T10:04:25.721965",
     "exception": false,
     "start_time": "2022-07-07T10:04:25.711687",
     "status": "completed"
    },
    "tags": []
   },
   "source": [
    "Use the `solver=lbfgs`, `activation=\"tanh\"` and `hidden_layer_sizes=(5)` to train the network."
   ]
  },
  {
   "cell_type": "code",
   "execution_count": 15,
   "id": "f773411a",
   "metadata": {
    "deletable": false,
    "execution": {
     "iopub.execute_input": "2022-07-07T10:04:25.745110Z",
     "iopub.status.busy": "2022-07-07T10:04:25.744357Z",
     "iopub.status.idle": "2022-07-07T10:04:28.139885Z",
     "shell.execute_reply": "2022-07-07T10:04:28.138462Z"
    },
    "id": "dYpph0WWWYv7",
    "nbgrader": {
     "cell_type": "code",
     "checksum": "507ec72c7dada3f4d50ca108c627e76d",
     "grade": true,
     "grade_id": "cell-7e7c5d2895c9805e",
     "locked": false,
     "points": 0,
     "schema_version": 3,
     "solution": true,
     "task": false
    },
    "outputId": "532ed4ca-9c0f-4ab4-b69d-66ee31d06281",
    "papermill": {
     "duration": 2.410314,
     "end_time": "2022-07-07T10:04:28.142574",
     "exception": false,
     "start_time": "2022-07-07T10:04:25.732260",
     "status": "completed"
    },
    "tags": []
   },
   "outputs": [
    {
     "data": {
      "text/plain": [
       "9.116897986176085"
      ]
     },
     "execution_count": 15,
     "metadata": {},
     "output_type": "execute_result"
    }
   ],
   "source": [
    "# Fit and check MSE before regularisation\n",
    "\n",
    "reg = MLPRegressor(max_iter=100000, hidden_layer_sizes=(5), activation=\"tanh\", solver=\"lbfgs\",  \n",
    "                    random_state=1) \n",
    "reg.fit(X_train, y_train)\n",
    "\n",
    "# Predict\n",
    "y_pred = reg.predict(X_test)\n",
    "\n",
    "# MSE before regularisation\n",
    "mean_squared_error(y_pred, y_test)\n"
   ]
  },
  {
   "cell_type": "markdown",
   "id": "170591bd",
   "metadata": {
    "id": "DNxASXFhwv9-",
    "papermill": {
     "duration": 0.011164,
     "end_time": "2022-07-07T10:04:28.165130",
     "exception": false,
     "start_time": "2022-07-07T10:04:28.153966",
     "status": "completed"
    },
    "tags": []
   },
   "source": [
    "### Regularisation\n",
    "Train the model using the list of potential alpha values in `reg_par`, and determine the validation score as you learnt in Unit 2."
   ]
  },
  {
   "cell_type": "code",
   "execution_count": 16,
   "id": "be73bc65",
   "metadata": {
    "deletable": false,
    "execution": {
     "iopub.execute_input": "2022-07-07T10:04:28.189254Z",
     "iopub.status.busy": "2022-07-07T10:04:28.188811Z",
     "iopub.status.idle": "2022-07-07T10:04:37.791029Z",
     "shell.execute_reply": "2022-07-07T10:04:37.789223Z"
    },
    "id": "cW_2EufNWYv9",
    "nbgrader": {
     "cell_type": "code",
     "checksum": "4e471b6c1b757ff684e92eafa0da0fed",
     "grade": true,
     "grade_id": "cell-60c9b81327275fac",
     "locked": false,
     "points": 0,
     "schema_version": 3,
     "solution": true,
     "task": false
    },
    "outputId": "73b6e4c6-6275-4fde-abe3-5a829516daf3",
    "papermill": {
     "duration": 9.617771,
     "end_time": "2022-07-07T10:04:37.793891",
     "exception": false,
     "start_time": "2022-07-07T10:04:28.176120",
     "status": "completed"
    },
    "tags": []
   },
   "outputs": [
    {
     "name": "stdout",
     "output_type": "stream",
     "text": [
      " alpha  |  Sq.Error\n",
      "0.04979 |  11.000804\n",
      "0.13534 |  11.129626\n",
      "0.36788 |  8.721438\n",
      "1.00000 |  8.282562\n",
      "2.71828 |  8.764460\n",
      "7.38906 |  7.873945\n",
      "20.08554 |  8.021878\n",
      "54.59815 |  10.917239\n"
     ]
    }
   ],
   "source": [
    "# Find regularisation parameter\n",
    "reg_par = [np.e**n for n in np.arange(-3,5,1)] \n",
    "\n",
    "# Optimise neural network with regularisation\n",
    "validation_scores = {}\n",
    "print(\" alpha  |  Sq.Error\") \n",
    "\n",
    "for param in reg_par:\n",
    "    reg = MLPRegressor(max_iter=100000, hidden_layer_sizes=(5), activation=\"tanh\", solver=\"lbfgs\",\n",
    "                       alpha=param, random_state=1)\n",
    "    score = cross_val_score(estimator=reg, X=X_train, y=y_train, \n",
    "                            cv=3, scoring=\"neg_mean_squared_error\")\n",
    "    validation_scores[param] = -score.mean()\n",
    "    print(\"%0.5f |  %0.6f\" % (param, -score.mean()))   \n"
   ]
  },
  {
   "cell_type": "code",
   "execution_count": 17,
   "id": "11053da9",
   "metadata": {
    "execution": {
     "iopub.execute_input": "2022-07-07T10:04:37.819227Z",
     "iopub.status.busy": "2022-07-07T10:04:37.818788Z",
     "iopub.status.idle": "2022-07-07T10:04:37.983483Z",
     "shell.execute_reply": "2022-07-07T10:04:37.982226Z"
    },
    "id": "PgM1Y-MefycG",
    "outputId": "177a3700-bf6b-48ef-d64f-a3dd0a516f0a",
    "papermill": {
     "duration": 0.180605,
     "end_time": "2022-07-07T10:04:37.986046",
     "exception": false,
     "start_time": "2022-07-07T10:04:37.805441",
     "status": "completed"
    },
    "tags": []
   },
   "outputs": [
    {
     "data": {
      "text/plain": [
       "Text(0, 0.5, 'Mean Sq Error')"
      ]
     },
     "execution_count": 17,
     "metadata": {},
     "output_type": "execute_result"
    },
    {
     "data": {
      "image/png": "[encoded data removed]",
      "text/plain": [
       "<Figure size 432x288 with 1 Axes>"
      ]
     },
     "metadata": {
      "needs_background": "light"
     },
     "output_type": "display_data"
    }
   ],
   "source": [
    "# Plot the error function    \n",
    "plt.plot([np.log(i) for i in validation_scores.keys()], list(validation_scores.values()))\n",
    "plt.xlabel(\"Ln of alpha\")\n",
    "plt.ylabel(\"Mean Sq Error\")\n"
   ]
  },
  {
   "cell_type": "markdown",
   "id": "c4ddf889",
   "metadata": {
    "id": "VAt2Rwp5wv-R",
    "papermill": {
     "duration": 0.011739,
     "end_time": "2022-07-07T10:04:38.009485",
     "exception": false,
     "start_time": "2022-07-07T10:04:37.997746",
     "status": "completed"
    },
    "tags": []
   },
   "source": [
    "Print the lowest cross-validation error and the value to use for the `alpha` parameter in the following cell."
   ]
  },
  {
   "cell_type": "code",
   "execution_count": 18,
   "id": "5e0dad55",
   "metadata": {
    "deletable": false,
    "execution": {
     "iopub.execute_input": "2022-07-07T10:04:38.035328Z",
     "iopub.status.busy": "2022-07-07T10:04:38.034859Z",
     "iopub.status.idle": "2022-07-07T10:04:38.041359Z",
     "shell.execute_reply": "2022-07-07T10:04:38.040555Z"
    },
    "id": "Tnu2eSt2WYwA",
    "nbgrader": {
     "cell_type": "code",
     "checksum": "0f9fdecda26713ae3918b1b627d921e1",
     "grade": true,
     "grade_id": "cell-34d7892d5ec76e33",
     "locked": false,
     "points": 0,
     "schema_version": 3,
     "solution": true,
     "task": false
    },
    "outputId": "e7fad062-eb5a-4c81-d706-f827cc3af536",
    "papermill": {
     "duration": 0.023916,
     "end_time": "2022-07-07T10:04:38.045267",
     "exception": false,
     "start_time": "2022-07-07T10:04:38.021351",
     "status": "completed"
    },
    "tags": []
   },
   "outputs": [
    {
     "name": "stdout",
     "output_type": "stream",
     "text": [
      "The lowest cross validation error is 7.873945\n",
      "This corresponds to regularisation parameter e**2.0\n"
     ]
    }
   ],
   "source": [
    "# Check errors\n",
    "print(\"The lowest cross validation error is %f\" % min(validation_scores.values()))        \n",
    "print(\"This corresponds to regularisation parameter e**%s\" % \n",
    "      ([np.log(name) for name, score in validation_scores.items()   \n",
    "                         if score==min(validation_scores.values())][0]))"
   ]
  },
  {
   "cell_type": "markdown",
   "id": "d2f9b70e",
   "metadata": {
    "id": "nLWW2pYSP9E1",
    "papermill": {
     "duration": 0.011324,
     "end_time": "2022-07-07T10:04:38.068988",
     "exception": false,
     "start_time": "2022-07-07T10:04:38.057664",
     "status": "completed"
    },
    "tags": []
   },
   "source": [
    " ### After regularisation"
   ]
  },
  {
   "cell_type": "code",
   "execution_count": 19,
   "id": "11a92637",
   "metadata": {
    "deletable": false,
    "execution": {
     "iopub.execute_input": "2022-07-07T10:04:38.094052Z",
     "iopub.status.busy": "2022-07-07T10:04:38.093377Z",
     "iopub.status.idle": "2022-07-07T10:04:38.227623Z",
     "shell.execute_reply": "2022-07-07T10:04:38.226752Z"
    },
    "id": "CekkMxB_WYwC",
    "nbgrader": {
     "cell_type": "code",
     "checksum": "d3222499507f8a21538354158cd49f83",
     "grade": true,
     "grade_id": "cell-82d1303c6a65f726",
     "locked": false,
     "points": 0,
     "schema_version": 3,
     "solution": true,
     "task": false
    },
    "outputId": "2ee6df5c-8c1f-4195-f470-44eaf4ac74bc",
    "papermill": {
     "duration": 0.149432,
     "end_time": "2022-07-07T10:04:38.229883",
     "exception": false,
     "start_time": "2022-07-07T10:04:38.080451",
     "status": "completed"
    },
    "tags": []
   },
   "outputs": [
    {
     "data": {
      "text/plain": [
       "8.369257462600652"
      ]
     },
     "execution_count": 19,
     "metadata": {},
     "output_type": "execute_result"
    }
   ],
   "source": [
    "# Fit data with the best parameter\n",
    "reg = MLPRegressor(max_iter=100000, hidden_layer_sizes=(5), activation=\"tanh\", solver=\"lbfgs\",\n",
    "                   alpha=np.e**(2), random_state=1)\n",
    "reg.fit(X_train, y_train)\n",
    "\n",
    "# Predict\n",
    "y_pred = reg.predict(X_test)\n",
    "\n",
    "# MSE final\n",
    "mean_squared_error(y_pred, y_test)"
   ]
  },
  {
   "cell_type": "markdown",
   "id": "2eeae109",
   "metadata": {
    "id": "ctr--i16fybt",
    "papermill": {
     "duration": 0.011513,
     "end_time": "2022-07-07T10:04:38.254006",
     "exception": false,
     "start_time": "2022-07-07T10:04:38.242493",
     "status": "completed"
    },
    "tags": []
   },
   "source": [
    "### Steps for setting up a response function\n",
    "1. Find the minimum and maximum weight values\n",
    "2. Set up a list of moving resultants\n",
    "3. Predict using the above two sets of values\n",
    "4. Plot miles per gallon against car weight"
   ]
  },
  {
   "cell_type": "markdown",
   "id": "406701be",
   "metadata": {
    "id": "Of9waZ0_fyce",
    "papermill": {
     "duration": 0.011999,
     "end_time": "2022-07-07T10:04:38.277906",
     "exception": false,
     "start_time": "2022-07-07T10:04:38.265907",
     "status": "completed"
    },
    "tags": []
   },
   "source": [
    "### Response function after regularisation"
   ]
  },
  {
   "cell_type": "code",
   "execution_count": 20,
   "id": "8608d4f8",
   "metadata": {
    "execution": {
     "iopub.execute_input": "2022-07-07T10:04:38.304441Z",
     "iopub.status.busy": "2022-07-07T10:04:38.303660Z",
     "iopub.status.idle": "2022-07-07T10:04:38.324315Z",
     "shell.execute_reply": "2022-07-07T10:04:38.322545Z"
    },
    "id": "FKZol-ldWYwJ",
    "outputId": "297cd2b8-b801-43cf-bf36-009d0ec0aa72",
    "papermill": {
     "duration": 0.037611,
     "end_time": "2022-07-07T10:04:38.327420",
     "exception": false,
     "start_time": "2022-07-07T10:04:38.289809",
     "status": "completed"
    },
    "tags": []
   },
   "outputs": [
    {
     "data": {
      "text/html": [
       "<div>\n",
       "<style scoped>\n",
       "    .dataframe tbody tr th:only-of-type {\n",
       "        vertical-align: middle;\n",
       "    }\n",
       "\n",
       "    .dataframe tbody tr th {\n",
       "        vertical-align: top;\n",
       "    }\n",
       "\n",
       "    .dataframe thead th {\n",
       "        text-align: right;\n",
       "    }\n",
       "</style>\n",
       "<table border=\"1\" class=\"dataframe\">\n",
       "  <thead>\n",
       "    <tr style=\"text-align: right;\">\n",
       "      <th></th>\n",
       "      <th>cylinders</th>\n",
       "      <th>displacement</th>\n",
       "      <th>horsepower</th>\n",
       "      <th>weight</th>\n",
       "      <th>acceleration</th>\n",
       "      <th>model year</th>\n",
       "      <th>origin</th>\n",
       "    </tr>\n",
       "  </thead>\n",
       "  <tbody>\n",
       "    <tr>\n",
       "      <th>0</th>\n",
       "      <td>4.0</td>\n",
       "      <td>151.0</td>\n",
       "      <td>93.5</td>\n",
       "      <td>2803.5</td>\n",
       "      <td>15.5</td>\n",
       "      <td>76.0</td>\n",
       "      <td>1.0</td>\n",
       "    </tr>\n",
       "  </tbody>\n",
       "</table>\n",
       "</div>"
      ],
      "text/plain": [
       "   cylinders  displacement  horsepower  weight  acceleration  model year  \\\n",
       "0        4.0         151.0        93.5  2803.5          15.5        76.0   \n",
       "\n",
       "   origin  \n",
       "0     1.0  "
      ]
     },
     "execution_count": 20,
     "metadata": {},
     "output_type": "execute_result"
    }
   ],
   "source": [
    "# Draw a response function\n",
    "\n",
    "# Prepare data for graph\n",
    "# Copy dataframe so as not to change original, and obtain medians\n",
    "X_design = X.copy()\n",
    "X_design_vec = pd.DataFrame(X_design.median()).transpose()\n",
    "\n",
    "# View X_design_vec, which should contain the median of each respective column\n",
    "X_design_vec.head()"
   ]
  },
  {
   "cell_type": "code",
   "execution_count": 21,
   "id": "0e255d9f",
   "metadata": {
    "deletable": false,
    "execution": {
     "iopub.execute_input": "2022-07-07T10:04:38.353453Z",
     "iopub.status.busy": "2022-07-07T10:04:38.352951Z",
     "iopub.status.idle": "2022-07-07T10:04:38.528747Z",
     "shell.execute_reply": "2022-07-07T10:04:38.526878Z"
    },
    "id": "v2BHBMXeWYwM",
    "nbgrader": {
     "cell_type": "code",
     "checksum": "58e79ca83ebeed2683a60f286be745d2",
     "grade": true,
     "grade_id": "cell-d4328c4044750f56",
     "locked": false,
     "points": 0,
     "schema_version": 3,
     "solution": true,
     "task": false
    },
    "outputId": "e0a0758e-4e6d-4669-f706-ef5771de51e2",
    "papermill": {
     "duration": 0.191785,
     "end_time": "2022-07-07T10:04:38.531425",
     "exception": false,
     "start_time": "2022-07-07T10:04:38.339640",
     "status": "completed"
    },
    "tags": []
   },
   "outputs": [
    {
     "name": "stdout",
     "output_type": "stream",
     "text": [
      "1613 5140\n"
     ]
    },
    {
     "data": {
      "image/png": "[encoded data removed]",
      "text/plain": [
       "<Figure size 432x288 with 1 Axes>"
      ]
     },
     "metadata": {
      "needs_background": "light"
     },
     "output_type": "display_data"
    }
   ],
   "source": [
    "# Obtain the min and max of the weight variable and set up a sequence\n",
    "min_res = min(X[\"weight\"])\n",
    "max_res = max(X[\"weight\"])\n",
    "print(min_res, max_res)\n",
    "seq = np.linspace(start=min_res, stop=max_res, num=50)\n",
    "\n",
    "# Set up a list of moving resultants\n",
    "\n",
    "to_predict = []\n",
    "for result in seq:\n",
    "    X_design_vec.loc[0, \"weight\"] = result\n",
    "    to_predict.append(X_design_vec.copy())\n",
    "\n",
    "# Convert back to dataframe\n",
    "to_predict = pd.concat(to_predict)\n",
    "\n",
    "# Scale and predict\n",
    "to_predict = scaler.transform(to_predict)\n",
    "predictions = reg.predict(to_predict)\n",
    "\n",
    "# Plot \n",
    "plt.plot(seq,predictions)\n",
    "plt.xlabel(\"weight (lbs)\")\n",
    "plt.ylabel(\"miles per gallon\")\n",
    "plt.title(\"mpg vs weight\")\n",
    "plt.show()\n",
    "\n"
   ]
  },
  {
   "cell_type": "code",
   "execution_count": null,
   "id": "973cecbf",
   "metadata": {
    "papermill": {
     "duration": 0.012624,
     "end_time": "2022-07-07T10:04:38.557624",
     "exception": false,
     "start_time": "2022-07-07T10:04:38.545000",
     "status": "completed"
    },
    "tags": []
   },
   "outputs": [],
   "source": []
  }
 ],
 "metadata": {
  "kernelspec": {
   "display_name": "Python 3 (ipykernel)",
   "language": "python",
   "name": "python3"
  },
  "language_info": {
   "codemirror_mode": {
    "name": "ipython",
    "version": 3
   },
   "file_extension": ".py",
   "mimetype": "text/x-python",
   "name": "python",
   "nbconvert_exporter": "python",
   "pygments_lexer": "ipython3",
   "version": "3.9.13"
  },
  "papermill": {
   "default_parameters": {},
   "duration": 26.370119,
   "end_time": "2022-07-07T10:04:39.595124",
   "environment_variables": {},
   "exception": null,
   "input_path": "__notebook__.ipynb",
   "output_path": "__notebook__.ipynb",
   "parameters": {},
   "start_time": "2022-07-07T10:04:13.225005",
   "version": "2.3.4"
  }
 },
 "nbformat": 4,
 "nbformat_minor": 5
}
