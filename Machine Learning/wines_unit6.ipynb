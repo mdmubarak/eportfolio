{
 "cells": [
  {
   "cell_type": "code",
   "execution_count": 1,
   "id": "8147a49e",
   "metadata": {
    "_cell_guid": "b1076dfc-b9ad-4769-8c92-a6c4dae69d19",
    "_kg_hide-input": true,
    "_kg_hide-output": true,
    "_uuid": "8f2839f25d086af736a60e9eeb907d3b93b6e0e5",
    "execution": {
     "iopub.execute_input": "2022-12-02T02:21:04.674077Z",
     "iopub.status.busy": "2022-12-02T02:21:04.673163Z",
     "iopub.status.idle": "2022-12-02T02:21:06.146924Z",
     "shell.execute_reply": "2022-12-02T02:21:06.145277Z"
    },
    "id": "6CfQXJ6i3zpc",
    "papermill": {
     "duration": 1.488471,
     "end_time": "2022-12-02T02:21:06.151534",
     "exception": false,
     "start_time": "2022-12-02T02:21:04.663063",
     "status": "completed"
    },
    "tags": []
   },
   "outputs": [
    {
     "name": "stdout",
     "output_type": "stream",
     "text": [
      "/kaggle/input/wine-dataset-for-clustering/wine-clustering.csv\n"
     ]
    }
   ],
   "source": [
    "import numpy as np # linear algebra\n",
    "import pandas as pd # data processing, CSV file I/O (e.g. pd.read_csv)\n",
    "import matplotlib.pyplot as plt\n",
    "import seaborn as sns\n",
    "\n",
    "import os\n",
    "for dirname, _, filenames in os.walk('/kaggle/input'):\n",
    "    for filename in filenames:\n",
    "        print(os.path.join(dirname, filename))\n"
   ]
  },
  {
   "cell_type": "markdown",
   "id": "1c3349a0",
   "metadata": {
    "id": "LuHLZdV53zph",
    "papermill": {
     "duration": 0.011278,
     "end_time": "2022-12-02T02:21:06.172932",
     "exception": false,
     "start_time": "2022-12-02T02:21:06.161654",
     "status": "completed"
    },
    "tags": []
   },
   "source": [
    "# Clustering K-Means Wines dataset"
   ]
  },
  {
   "cell_type": "markdown",
   "id": "6719ad55",
   "metadata": {
    "id": "5bpAxlh23zpn",
    "papermill": {
     "duration": 0.007853,
     "end_time": "2022-12-02T02:21:06.274345",
     "exception": false,
     "start_time": "2022-12-02T02:21:06.266492",
     "status": "completed"
    },
    "tags": []
   },
   "source": [
    "## K-Means"
   ]
  },
  {
   "cell_type": "code",
   "execution_count": 2,
   "id": "efc723d1",
   "metadata": {
    "execution": {
     "iopub.execute_input": "2022-12-02T02:21:06.308654Z",
     "iopub.status.busy": "2022-12-02T02:21:06.308230Z",
     "iopub.status.idle": "2022-12-02T02:21:06.349914Z",
     "shell.execute_reply": "2022-12-02T02:21:06.348586Z"
    },
    "id": "NN-vS5KP3zpo",
    "outputId": "b3b2e01d-4e36-4c24-8a6a-b97a3e268547",
    "papermill": {
     "duration": 0.053553,
     "end_time": "2022-12-02T02:21:06.352277",
     "exception": false,
     "start_time": "2022-12-02T02:21:06.298724",
     "status": "completed"
    },
    "tags": []
   },
   "outputs": [
    {
     "data": {
      "text/html": [
       "<div>\n",
       "<style scoped>\n",
       "    .dataframe tbody tr th:only-of-type {\n",
       "        vertical-align: middle;\n",
       "    }\n",
       "\n",
       "    .dataframe tbody tr th {\n",
       "        vertical-align: top;\n",
       "    }\n",
       "\n",
       "    .dataframe thead th {\n",
       "        text-align: right;\n",
       "    }\n",
       "</style>\n",
       "<table border=\"1\" class=\"dataframe\">\n",
       "  <thead>\n",
       "    <tr style=\"text-align: right;\">\n",
       "      <th></th>\n",
       "      <th>Alcohol</th>\n",
       "      <th>Malic_Acid</th>\n",
       "      <th>Ash</th>\n",
       "      <th>Ash_Alcanity</th>\n",
       "      <th>Magnesium</th>\n",
       "      <th>Total_Phenols</th>\n",
       "      <th>Flavanoids</th>\n",
       "      <th>Nonflavanoid_Phenols</th>\n",
       "      <th>Proanthocyanins</th>\n",
       "      <th>Color_Intensity</th>\n",
       "      <th>Hue</th>\n",
       "      <th>OD280</th>\n",
       "      <th>Proline</th>\n",
       "    </tr>\n",
       "  </thead>\n",
       "  <tbody>\n",
       "    <tr>\n",
       "      <th>0</th>\n",
       "      <td>14.23</td>\n",
       "      <td>1.71</td>\n",
       "      <td>2.43</td>\n",
       "      <td>15.6</td>\n",
       "      <td>127</td>\n",
       "      <td>2.80</td>\n",
       "      <td>3.06</td>\n",
       "      <td>0.28</td>\n",
       "      <td>2.29</td>\n",
       "      <td>5.64</td>\n",
       "      <td>1.04</td>\n",
       "      <td>3.92</td>\n",
       "      <td>1065</td>\n",
       "    </tr>\n",
       "    <tr>\n",
       "      <th>1</th>\n",
       "      <td>13.20</td>\n",
       "      <td>1.78</td>\n",
       "      <td>2.14</td>\n",
       "      <td>11.2</td>\n",
       "      <td>100</td>\n",
       "      <td>2.65</td>\n",
       "      <td>2.76</td>\n",
       "      <td>0.26</td>\n",
       "      <td>1.28</td>\n",
       "      <td>4.38</td>\n",
       "      <td>1.05</td>\n",
       "      <td>3.40</td>\n",
       "      <td>1050</td>\n",
       "    </tr>\n",
       "    <tr>\n",
       "      <th>2</th>\n",
       "      <td>13.16</td>\n",
       "      <td>2.36</td>\n",
       "      <td>2.67</td>\n",
       "      <td>18.6</td>\n",
       "      <td>101</td>\n",
       "      <td>2.80</td>\n",
       "      <td>3.24</td>\n",
       "      <td>0.30</td>\n",
       "      <td>2.81</td>\n",
       "      <td>5.68</td>\n",
       "      <td>1.03</td>\n",
       "      <td>3.17</td>\n",
       "      <td>1185</td>\n",
       "    </tr>\n",
       "    <tr>\n",
       "      <th>3</th>\n",
       "      <td>14.37</td>\n",
       "      <td>1.95</td>\n",
       "      <td>2.50</td>\n",
       "      <td>16.8</td>\n",
       "      <td>113</td>\n",
       "      <td>3.85</td>\n",
       "      <td>3.49</td>\n",
       "      <td>0.24</td>\n",
       "      <td>2.18</td>\n",
       "      <td>7.80</td>\n",
       "      <td>0.86</td>\n",
       "      <td>3.45</td>\n",
       "      <td>1480</td>\n",
       "    </tr>\n",
       "    <tr>\n",
       "      <th>4</th>\n",
       "      <td>13.24</td>\n",
       "      <td>2.59</td>\n",
       "      <td>2.87</td>\n",
       "      <td>21.0</td>\n",
       "      <td>118</td>\n",
       "      <td>2.80</td>\n",
       "      <td>2.69</td>\n",
       "      <td>0.39</td>\n",
       "      <td>1.82</td>\n",
       "      <td>4.32</td>\n",
       "      <td>1.04</td>\n",
       "      <td>2.93</td>\n",
       "      <td>735</td>\n",
       "    </tr>\n",
       "  </tbody>\n",
       "</table>\n",
       "</div>"
      ],
      "text/plain": [
       "   Alcohol  Malic_Acid   Ash  Ash_Alcanity  Magnesium  Total_Phenols  \\\n",
       "0    14.23        1.71  2.43          15.6        127           2.80   \n",
       "1    13.20        1.78  2.14          11.2        100           2.65   \n",
       "2    13.16        2.36  2.67          18.6        101           2.80   \n",
       "3    14.37        1.95  2.50          16.8        113           3.85   \n",
       "4    13.24        2.59  2.87          21.0        118           2.80   \n",
       "\n",
       "   Flavanoids  Nonflavanoid_Phenols  Proanthocyanins  Color_Intensity   Hue  \\\n",
       "0        3.06                  0.28             2.29             5.64  1.04   \n",
       "1        2.76                  0.26             1.28             4.38  1.05   \n",
       "2        3.24                  0.30             2.81             5.68  1.03   \n",
       "3        3.49                  0.24             2.18             7.80  0.86   \n",
       "4        2.69                  0.39             1.82             4.32  1.04   \n",
       "\n",
       "   OD280  Proline  \n",
       "0   3.92     1065  \n",
       "1   3.40     1050  \n",
       "2   3.17     1185  \n",
       "3   3.45     1480  \n",
       "4   2.93      735  "
      ]
     },
     "execution_count": 2,
     "metadata": {},
     "output_type": "execute_result"
    }
   ],
   "source": [
    "link = \"wine.csv\" \n",
    "wine = pd.read_csv(link)\n",
    "wine.head() "
   ]
  },
  {
   "cell_type": "code",
   "execution_count": 3,
   "id": "447de0e3",
   "metadata": {
    "execution": {
     "iopub.execute_input": "2022-12-02T02:21:06.371677Z",
     "iopub.status.busy": "2022-12-02T02:21:06.371057Z",
     "iopub.status.idle": "2022-12-02T02:21:06.378558Z",
     "shell.execute_reply": "2022-12-02T02:21:06.377352Z"
    },
    "id": "JT4ASUUA3zpp",
    "outputId": "90d8e12a-4546-4653-f796-7b34ea18cb10",
    "papermill": {
     "duration": 0.020048,
     "end_time": "2022-12-02T02:21:06.381071",
     "exception": false,
     "start_time": "2022-12-02T02:21:06.361023",
     "status": "completed"
    },
    "tags": []
   },
   "outputs": [
    {
     "data": {
      "text/plain": [
       "2314"
      ]
     },
     "execution_count": 3,
     "metadata": {},
     "output_type": "execute_result"
    }
   ],
   "source": [
    "wine.size "
   ]
  },
  {
   "cell_type": "code",
   "execution_count": 4,
   "id": "74ef62cf",
   "metadata": {
    "execution": {
     "iopub.execute_input": "2022-12-02T02:21:06.401765Z",
     "iopub.status.busy": "2022-12-02T02:21:06.400654Z",
     "iopub.status.idle": "2022-12-02T02:21:06.406908Z",
     "shell.execute_reply": "2022-12-02T02:21:06.406120Z"
    },
    "id": "QnHCAvlM3zpp",
    "outputId": "0b8c3b2d-3ee5-42e1-9574-d1098093dfb2",
    "papermill": {
     "duration": 0.018843,
     "end_time": "2022-12-02T02:21:06.409266",
     "exception": false,
     "start_time": "2022-12-02T02:21:06.390423",
     "status": "completed"
    },
    "tags": []
   },
   "outputs": [
    {
     "data": {
      "text/plain": [
       "(178, 13)"
      ]
     },
     "execution_count": 4,
     "metadata": {},
     "output_type": "execute_result"
    }
   ],
   "source": [
    "wine.shape "
   ]
  },
  {
   "cell_type": "code",
   "execution_count": 5,
   "id": "8da1d737",
   "metadata": {
    "execution": {
     "iopub.execute_input": "2022-12-02T02:21:06.429126Z",
     "iopub.status.busy": "2022-12-02T02:21:06.428441Z",
     "iopub.status.idle": "2022-12-02T02:21:06.434376Z",
     "shell.execute_reply": "2022-12-02T02:21:06.433533Z"
    },
    "id": "_8xwniVv3zpq",
    "outputId": "f7631c76-5cd9-49bc-cd75-246682d8e694",
    "papermill": {
     "duration": 0.018516,
     "end_time": "2022-12-02T02:21:06.436684",
     "exception": false,
     "start_time": "2022-12-02T02:21:06.418168",
     "status": "completed"
    },
    "tags": []
   },
   "outputs": [
    {
     "data": {
      "text/plain": [
       "Index(['Alcohol', 'Malic_Acid', 'Ash', 'Ash_Alcanity', 'Magnesium',\n",
       "       'Total_Phenols', 'Flavanoids', 'Nonflavanoid_Phenols',\n",
       "       'Proanthocyanins', 'Color_Intensity', 'Hue', 'OD280', 'Proline'],\n",
       "      dtype='object')"
      ]
     },
     "execution_count": 5,
     "metadata": {},
     "output_type": "execute_result"
    }
   ],
   "source": [
    "wine.columns "
   ]
  },
  {
   "cell_type": "code",
   "execution_count": 6,
   "id": "b2c6bd3c",
   "metadata": {
    "execution": {
     "iopub.execute_input": "2022-12-02T02:21:06.457455Z",
     "iopub.status.busy": "2022-12-02T02:21:06.456553Z",
     "iopub.status.idle": "2022-12-02T02:21:06.517935Z",
     "shell.execute_reply": "2022-12-02T02:21:06.516737Z"
    },
    "id": "JBkVqYYk3zpq",
    "outputId": "5719aee7-b5e4-4228-9cd5-e79b9ef96a1b",
    "papermill": {
     "duration": 0.074726,
     "end_time": "2022-12-02T02:21:06.520609",
     "exception": false,
     "start_time": "2022-12-02T02:21:06.445883",
     "status": "completed"
    },
    "tags": []
   },
   "outputs": [
    {
     "data": {
      "text/html": [
       "<div>\n",
       "<style scoped>\n",
       "    .dataframe tbody tr th:only-of-type {\n",
       "        vertical-align: middle;\n",
       "    }\n",
       "\n",
       "    .dataframe tbody tr th {\n",
       "        vertical-align: top;\n",
       "    }\n",
       "\n",
       "    .dataframe thead th {\n",
       "        text-align: right;\n",
       "    }\n",
       "</style>\n",
       "<table border=\"1\" class=\"dataframe\">\n",
       "  <thead>\n",
       "    <tr style=\"text-align: right;\">\n",
       "      <th></th>\n",
       "      <th>Alcohol</th>\n",
       "      <th>Malic_Acid</th>\n",
       "      <th>Ash</th>\n",
       "      <th>Ash_Alcanity</th>\n",
       "      <th>Magnesium</th>\n",
       "      <th>Total_Phenols</th>\n",
       "      <th>Flavanoids</th>\n",
       "      <th>Nonflavanoid_Phenols</th>\n",
       "      <th>Proanthocyanins</th>\n",
       "      <th>Color_Intensity</th>\n",
       "      <th>Hue</th>\n",
       "      <th>OD280</th>\n",
       "      <th>Proline</th>\n",
       "    </tr>\n",
       "  </thead>\n",
       "  <tbody>\n",
       "    <tr>\n",
       "      <th>count</th>\n",
       "      <td>178.000000</td>\n",
       "      <td>178.000000</td>\n",
       "      <td>178.000000</td>\n",
       "      <td>178.000000</td>\n",
       "      <td>178.000000</td>\n",
       "      <td>178.000000</td>\n",
       "      <td>178.000000</td>\n",
       "      <td>178.000000</td>\n",
       "      <td>178.000000</td>\n",
       "      <td>178.000000</td>\n",
       "      <td>178.000000</td>\n",
       "      <td>178.000000</td>\n",
       "      <td>178.000000</td>\n",
       "    </tr>\n",
       "    <tr>\n",
       "      <th>mean</th>\n",
       "      <td>13.000618</td>\n",
       "      <td>2.336348</td>\n",
       "      <td>2.366517</td>\n",
       "      <td>19.494944</td>\n",
       "      <td>99.741573</td>\n",
       "      <td>2.295112</td>\n",
       "      <td>2.029270</td>\n",
       "      <td>0.361854</td>\n",
       "      <td>1.590899</td>\n",
       "      <td>5.058090</td>\n",
       "      <td>0.957449</td>\n",
       "      <td>2.611685</td>\n",
       "      <td>746.893258</td>\n",
       "    </tr>\n",
       "    <tr>\n",
       "      <th>std</th>\n",
       "      <td>0.811827</td>\n",
       "      <td>1.117146</td>\n",
       "      <td>0.274344</td>\n",
       "      <td>3.339564</td>\n",
       "      <td>14.282484</td>\n",
       "      <td>0.625851</td>\n",
       "      <td>0.998859</td>\n",
       "      <td>0.124453</td>\n",
       "      <td>0.572359</td>\n",
       "      <td>2.318286</td>\n",
       "      <td>0.228572</td>\n",
       "      <td>0.709990</td>\n",
       "      <td>314.907474</td>\n",
       "    </tr>\n",
       "    <tr>\n",
       "      <th>min</th>\n",
       "      <td>11.030000</td>\n",
       "      <td>0.740000</td>\n",
       "      <td>1.360000</td>\n",
       "      <td>10.600000</td>\n",
       "      <td>70.000000</td>\n",
       "      <td>0.980000</td>\n",
       "      <td>0.340000</td>\n",
       "      <td>0.130000</td>\n",
       "      <td>0.410000</td>\n",
       "      <td>1.280000</td>\n",
       "      <td>0.480000</td>\n",
       "      <td>1.270000</td>\n",
       "      <td>278.000000</td>\n",
       "    </tr>\n",
       "    <tr>\n",
       "      <th>25%</th>\n",
       "      <td>12.362500</td>\n",
       "      <td>1.602500</td>\n",
       "      <td>2.210000</td>\n",
       "      <td>17.200000</td>\n",
       "      <td>88.000000</td>\n",
       "      <td>1.742500</td>\n",
       "      <td>1.205000</td>\n",
       "      <td>0.270000</td>\n",
       "      <td>1.250000</td>\n",
       "      <td>3.220000</td>\n",
       "      <td>0.782500</td>\n",
       "      <td>1.937500</td>\n",
       "      <td>500.500000</td>\n",
       "    </tr>\n",
       "    <tr>\n",
       "      <th>50%</th>\n",
       "      <td>13.050000</td>\n",
       "      <td>1.865000</td>\n",
       "      <td>2.360000</td>\n",
       "      <td>19.500000</td>\n",
       "      <td>98.000000</td>\n",
       "      <td>2.355000</td>\n",
       "      <td>2.135000</td>\n",
       "      <td>0.340000</td>\n",
       "      <td>1.555000</td>\n",
       "      <td>4.690000</td>\n",
       "      <td>0.965000</td>\n",
       "      <td>2.780000</td>\n",
       "      <td>673.500000</td>\n",
       "    </tr>\n",
       "    <tr>\n",
       "      <th>75%</th>\n",
       "      <td>13.677500</td>\n",
       "      <td>3.082500</td>\n",
       "      <td>2.557500</td>\n",
       "      <td>21.500000</td>\n",
       "      <td>107.000000</td>\n",
       "      <td>2.800000</td>\n",
       "      <td>2.875000</td>\n",
       "      <td>0.437500</td>\n",
       "      <td>1.950000</td>\n",
       "      <td>6.200000</td>\n",
       "      <td>1.120000</td>\n",
       "      <td>3.170000</td>\n",
       "      <td>985.000000</td>\n",
       "    </tr>\n",
       "    <tr>\n",
       "      <th>max</th>\n",
       "      <td>14.830000</td>\n",
       "      <td>5.800000</td>\n",
       "      <td>3.230000</td>\n",
       "      <td>30.000000</td>\n",
       "      <td>162.000000</td>\n",
       "      <td>3.880000</td>\n",
       "      <td>5.080000</td>\n",
       "      <td>0.660000</td>\n",
       "      <td>3.580000</td>\n",
       "      <td>13.000000</td>\n",
       "      <td>1.710000</td>\n",
       "      <td>4.000000</td>\n",
       "      <td>1680.000000</td>\n",
       "    </tr>\n",
       "  </tbody>\n",
       "</table>\n",
       "</div>"
      ],
      "text/plain": [
       "          Alcohol  Malic_Acid         Ash  Ash_Alcanity   Magnesium  \\\n",
       "count  178.000000  178.000000  178.000000    178.000000  178.000000   \n",
       "mean    13.000618    2.336348    2.366517     19.494944   99.741573   \n",
       "std      0.811827    1.117146    0.274344      3.339564   14.282484   \n",
       "min     11.030000    0.740000    1.360000     10.600000   70.000000   \n",
       "25%     12.362500    1.602500    2.210000     17.200000   88.000000   \n",
       "50%     13.050000    1.865000    2.360000     19.500000   98.000000   \n",
       "75%     13.677500    3.082500    2.557500     21.500000  107.000000   \n",
       "max     14.830000    5.800000    3.230000     30.000000  162.000000   \n",
       "\n",
       "       Total_Phenols  Flavanoids  Nonflavanoid_Phenols  Proanthocyanins  \\\n",
       "count     178.000000  178.000000            178.000000       178.000000   \n",
       "mean        2.295112    2.029270              0.361854         1.590899   \n",
       "std         0.625851    0.998859              0.124453         0.572359   \n",
       "min         0.980000    0.340000              0.130000         0.410000   \n",
       "25%         1.742500    1.205000              0.270000         1.250000   \n",
       "50%         2.355000    2.135000              0.340000         1.555000   \n",
       "75%         2.800000    2.875000              0.437500         1.950000   \n",
       "max         3.880000    5.080000              0.660000         3.580000   \n",
       "\n",
       "       Color_Intensity         Hue       OD280      Proline  \n",
       "count       178.000000  178.000000  178.000000   178.000000  \n",
       "mean          5.058090    0.957449    2.611685   746.893258  \n",
       "std           2.318286    0.228572    0.709990   314.907474  \n",
       "min           1.280000    0.480000    1.270000   278.000000  \n",
       "25%           3.220000    0.782500    1.937500   500.500000  \n",
       "50%           4.690000    0.965000    2.780000   673.500000  \n",
       "75%           6.200000    1.120000    3.170000   985.000000  \n",
       "max          13.000000    1.710000    4.000000  1680.000000  "
      ]
     },
     "execution_count": 6,
     "metadata": {},
     "output_type": "execute_result"
    }
   ],
   "source": [
    "wine.describe() "
   ]
  },
  {
   "cell_type": "code",
   "execution_count": 7,
   "id": "5575c393",
   "metadata": {
    "execution": {
     "iopub.execute_input": "2022-12-02T02:21:06.541582Z",
     "iopub.status.busy": "2022-12-02T02:21:06.540560Z",
     "iopub.status.idle": "2022-12-02T02:21:06.921999Z",
     "shell.execute_reply": "2022-12-02T02:21:06.921066Z"
    },
    "id": "uqXG1Q5M3zpr",
    "outputId": "d7478841-1b89-4892-8a90-dfb83221cd9a",
    "papermill": {
     "duration": 0.394354,
     "end_time": "2022-12-02T02:21:06.924406",
     "exception": false,
     "start_time": "2022-12-02T02:21:06.530052",
     "status": "completed"
    },
    "tags": []
   },
   "outputs": [
    {
     "data": {
      "image/png": "[encoded data removed]",
      "text/plain": [
       "<Figure size 432x288 with 4 Axes>"
      ]
     },
     "metadata": {
      "needs_background": "light"
     },
     "output_type": "display_data"
    }
   ],
   "source": [
    "from pandas.plotting import scatter_matrix\n",
    "scatter_matrix(wine.iloc[:,[0,5]])\n",
    "plt.show() "
   ]
  },
  {
   "cell_type": "code",
   "execution_count": 8,
   "id": "3f323eb1",
   "metadata": {
    "execution": {
     "iopub.execute_input": "2022-12-02T02:21:06.966995Z",
     "iopub.status.busy": "2022-12-02T02:21:06.966224Z",
     "iopub.status.idle": "2022-12-02T02:21:06.972454Z",
     "shell.execute_reply": "2022-12-02T02:21:06.971336Z"
    },
    "id": "_TQ1iAz63zpt",
    "papermill": {
     "duration": 0.021248,
     "end_time": "2022-12-02T02:21:06.975453",
     "exception": false,
     "start_time": "2022-12-02T02:21:06.954205",
     "status": "completed"
    },
    "tags": []
   },
   "outputs": [],
   "source": [
    "X = wine[[\"Alcohol\", \"Total_Phenols\"]]  "
   ]
  },
  {
   "cell_type": "code",
   "execution_count": 9,
   "id": "d2b48016",
   "metadata": {
    "execution": {
     "iopub.execute_input": "2022-12-02T02:21:06.999415Z",
     "iopub.status.busy": "2022-12-02T02:21:06.998959Z",
     "iopub.status.idle": "2022-12-02T02:21:07.243519Z",
     "shell.execute_reply": "2022-12-02T02:21:07.241791Z"
    },
    "id": "uOrxkFMO3zpt",
    "papermill": {
     "duration": 0.261659,
     "end_time": "2022-12-02T02:21:07.248225",
     "exception": false,
     "start_time": "2022-12-02T02:21:06.986566",
     "status": "completed"
    },
    "tags": []
   },
   "outputs": [],
   "source": [
    "from sklearn.preprocessing import StandardScaler\n",
    "scale = StandardScaler()\n",
    "scale.fit(X)\n",
    "X_scaled = scale.transform(X)"
   ]
  },
  {
   "cell_type": "code",
   "execution_count": 10,
   "id": "e38eafb1",
   "metadata": {
    "execution": {
     "iopub.execute_input": "2022-12-02T02:21:07.277858Z",
     "iopub.status.busy": "2022-12-02T02:21:07.276937Z",
     "iopub.status.idle": "2022-12-02T02:21:07.286721Z",
     "shell.execute_reply": "2022-12-02T02:21:07.285603Z"
    },
    "id": "V30-hJ083zpt",
    "outputId": "9069eb13-f5cc-467a-a551-0f7068a23003",
    "papermill": {
     "duration": 0.029679,
     "end_time": "2022-12-02T02:21:07.289720",
     "exception": false,
     "start_time": "2022-12-02T02:21:07.260041",
     "status": "completed"
    },
    "tags": []
   },
   "outputs": [
    {
     "name": "stdout",
     "output_type": "stream",
     "text": [
      "[13.00061798  2.29511236] \n",
      " [0.80954291 0.62409056]\n"
     ]
    }
   ],
   "source": [
    "print(scale.mean_, \"\\n\", scale.scale_) "
   ]
  },
  {
   "cell_type": "markdown",
   "id": "57dadaa5",
   "metadata": {
    "id": "lIteJgS43zpu",
    "papermill": {
     "duration": 0.010016,
     "end_time": "2022-12-02T02:21:07.310273",
     "exception": false,
     "start_time": "2022-12-02T02:21:07.300257",
     "status": "completed"
    },
    "tags": []
   },
   "source": [
    "### 2) Modeling"
   ]
  },
  {
   "cell_type": "code",
   "execution_count": 11,
   "id": "479db76c",
   "metadata": {
    "execution": {
     "iopub.execute_input": "2022-12-02T02:21:07.332842Z",
     "iopub.status.busy": "2022-12-02T02:21:07.332443Z",
     "iopub.status.idle": "2022-12-02T02:21:07.905970Z",
     "shell.execute_reply": "2022-12-02T02:21:07.897435Z"
    },
    "id": "g4xCAX_93zpu",
    "papermill": {
     "duration": 0.591331,
     "end_time": "2022-12-02T02:21:07.912180",
     "exception": false,
     "start_time": "2022-12-02T02:21:07.320849",
     "status": "completed"
    },
    "tags": []
   },
   "outputs": [],
   "source": [
    "from sklearn.cluster import KMeans \n",
    "kmeans = KMeans(n_clusters=3)\n",
    "kmeans.fit(X_scaled)\n",
    "y_pred = kmeans.predict(X_scaled)"
   ]
  },
  {
   "cell_type": "code",
   "execution_count": 12,
   "id": "ee0f78a2",
   "metadata": {
    "execution": {
     "iopub.execute_input": "2022-12-02T02:21:07.995025Z",
     "iopub.status.busy": "2022-12-02T02:21:07.993701Z",
     "iopub.status.idle": "2022-12-02T02:21:08.001945Z",
     "shell.execute_reply": "2022-12-02T02:21:08.000587Z"
    },
    "id": "_8cnqST33zpu",
    "papermill": {
     "duration": 0.049262,
     "end_time": "2022-12-02T02:21:08.004986",
     "exception": false,
     "start_time": "2022-12-02T02:21:07.955724",
     "status": "completed"
    },
    "tags": []
   },
   "outputs": [],
   "source": [
    "def countcant(x):\n",
    "    unique, counts = np.unique(x, return_counts=True)\n",
    "    return np.asarray((unique,counts)).T \n",
    "     "
   ]
  },
  {
   "cell_type": "code",
   "execution_count": 13,
   "id": "d6f7ec01",
   "metadata": {
    "execution": {
     "iopub.execute_input": "2022-12-02T02:21:08.029697Z",
     "iopub.status.busy": "2022-12-02T02:21:08.029233Z",
     "iopub.status.idle": "2022-12-02T02:21:08.039239Z",
     "shell.execute_reply": "2022-12-02T02:21:08.036934Z"
    },
    "id": "tHUldwK93zpv",
    "outputId": "169fc004-84ff-46d8-d244-17fcc8fc3024",
    "papermill": {
     "duration": 0.025611,
     "end_time": "2022-12-02T02:21:08.042391",
     "exception": false,
     "start_time": "2022-12-02T02:21:08.016780",
     "status": "completed"
    },
    "tags": []
   },
   "outputs": [
    {
     "data": {
      "text/plain": [
       "array([[ 0, 60],\n",
       "       [ 1, 53],\n",
       "       [ 2, 65]])"
      ]
     },
     "execution_count": 13,
     "metadata": {},
     "output_type": "execute_result"
    }
   ],
   "source": [
    "countcant(y_pred) "
   ]
  },
  {
   "cell_type": "code",
   "execution_count": 14,
   "id": "7d2c88bc",
   "metadata": {
    "execution": {
     "iopub.execute_input": "2022-12-02T02:21:08.091142Z",
     "iopub.status.busy": "2022-12-02T02:21:08.090554Z",
     "iopub.status.idle": "2022-12-02T02:21:08.099151Z",
     "shell.execute_reply": "2022-12-02T02:21:08.098123Z"
    },
    "id": "vzBq_Sp63zpv",
    "outputId": "b6e594b3-4b18-446f-d627-9302c65ec021",
    "papermill": {
     "duration": 0.024525,
     "end_time": "2022-12-02T02:21:08.101582",
     "exception": false,
     "start_time": "2022-12-02T02:21:08.077057",
     "status": "completed"
    },
    "tags": []
   },
   "outputs": [
    {
     "data": {
      "text/plain": [
       "array([[-1.06309124,  0.06418028],\n",
       "       [ 0.07498401, -1.14070754],\n",
       "       [ 0.92017418,  0.87087204]])"
      ]
     },
     "execution_count": 14,
     "metadata": {},
     "output_type": "execute_result"
    }
   ],
   "source": [
    "kmeans.cluster_centers_ "
   ]
  },
  {
   "cell_type": "code",
   "execution_count": 15,
   "id": "98ab1de3",
   "metadata": {
    "execution": {
     "iopub.execute_input": "2022-12-02T02:21:08.125599Z",
     "iopub.status.busy": "2022-12-02T02:21:08.124790Z",
     "iopub.status.idle": "2022-12-02T02:21:08.346718Z",
     "shell.execute_reply": "2022-12-02T02:21:08.345364Z"
    },
    "id": "3d36yu2h3zpv",
    "outputId": "91ae95a5-32c3-41bc-8c62-3ff9600e330e",
    "papermill": {
     "duration": 0.237146,
     "end_time": "2022-12-02T02:21:08.349762",
     "exception": false,
     "start_time": "2022-12-02T02:21:08.112616",
     "status": "completed"
    },
    "tags": []
   },
   "outputs": [
    {
     "data": {
      "image/png": "[encoded data removed]",
      "text/plain": [
       "<Figure size 432x288 with 1 Axes>"
      ]
     },
     "metadata": {
      "needs_background": "light"
     },
     "output_type": "display_data"
    }
   ],
   "source": [
    "# Muestro todos los puntos\n",
    "plt.scatter(X_scaled[:,0], X_scaled[:,1], c=y_pred) \n",
    "\n",
    "# Muestro los centroids\n",
    "plt.scatter(kmeans.cluster_centers_[:,0], kmeans.cluster_centers_[:,1], marker=\"*\", s=250, c=[0,1,2], edgecolors=\"k\") \n",
    "\n",
    "plt.xlabel(\"Alcohol\")\n",
    "plt.ylabel(\"Total Phenols\")\n",
    "plt.title(\"KMeans k=3\")\n",
    "plt.show() "
   ]
  },
  {
   "cell_type": "code",
   "execution_count": 16,
   "id": "49f52bb4",
   "metadata": {
    "execution": {
     "iopub.execute_input": "2022-12-02T02:21:08.415013Z",
     "iopub.status.busy": "2022-12-02T02:21:08.414599Z",
     "iopub.status.idle": "2022-12-02T02:21:08.430550Z",
     "shell.execute_reply": "2022-12-02T02:21:08.429592Z"
    },
    "id": "En2HGaBr3zpx",
    "outputId": "f7492ead-337b-45f1-f9e2-99cdc0876b73",
    "papermill": {
     "duration": 0.033448,
     "end_time": "2022-12-02T02:21:08.436117",
     "exception": false,
     "start_time": "2022-12-02T02:21:08.402669",
     "status": "completed"
    },
    "tags": []
   },
   "outputs": [
    {
     "data": {
      "text/plain": [
       "array([2], dtype=int32)"
      ]
     },
     "execution_count": 16,
     "metadata": {},
     "output_type": "execute_result"
    }
   ],
   "source": [
    "X_new = pd.DataFrame({\"Alcohol\": [13], \"Total_Phenols\": [2.5] }) \n",
    "X_new_scaled = scale.transform(X_new)\n",
    "kmeans.predict(X_new_scaled) "
   ]
  },
  {
   "cell_type": "code",
   "execution_count": 17,
   "id": "c1373526",
   "metadata": {
    "execution": {
     "iopub.execute_input": "2022-12-02T02:21:08.508813Z",
     "iopub.status.busy": "2022-12-02T02:21:08.508352Z",
     "iopub.status.idle": "2022-12-02T02:21:08.515907Z",
     "shell.execute_reply": "2022-12-02T02:21:08.514623Z"
    },
    "id": "M1sN9Ele3zpz",
    "outputId": "f4236196-c9c2-4418-d239-019f274d9fef",
    "papermill": {
     "duration": 0.022856,
     "end_time": "2022-12-02T02:21:08.518393",
     "exception": false,
     "start_time": "2022-12-02T02:21:08.495537",
     "status": "completed"
    },
    "tags": []
   },
   "outputs": [
    {
     "data": {
      "text/plain": [
       "114.34674038310783"
      ]
     },
     "execution_count": 17,
     "metadata": {},
     "output_type": "execute_result"
    }
   ],
   "source": [
    "kmeans.inertia_ "
   ]
  },
  {
   "cell_type": "code",
   "execution_count": 18,
   "id": "c61b57bb",
   "metadata": {
    "execution": {
     "iopub.execute_input": "2022-12-02T02:21:08.566616Z",
     "iopub.status.busy": "2022-12-02T02:21:08.566072Z",
     "iopub.status.idle": "2022-12-02T02:21:09.076685Z",
     "shell.execute_reply": "2022-12-02T02:21:09.075613Z"
    },
    "id": "bp-NfklL3zp4",
    "outputId": "2e29099c-eda6-466f-b819-5cfdfe5f9abd",
    "papermill": {
     "duration": 0.525995,
     "end_time": "2022-12-02T02:21:09.079552",
     "exception": false,
     "start_time": "2022-12-02T02:21:08.553557",
     "status": "completed"
    },
    "tags": []
   },
   "outputs": [
    {
     "data": {
      "image/png": "[encoded data removed]",
      "text/plain": [
       "<Figure size 432x288 with 1 Axes>"
      ]
     },
     "metadata": {
      "needs_background": "light"
     },
     "output_type": "display_data"
    }
   ],
   "source": [
    "inertia = []\n",
    "for i in np.arange(1,11):\n",
    "    km = KMeans(n_clusters=i)\n",
    "    km.fit(X_scaled)\n",
    "    inertia.append(km.inertia_)\n",
    "    \n",
    "plt.plot(np.arange(1,11), inertia, marker=\"o\")\n",
    "plt.xlabel(\"Number of clusters\")\n",
    "plt.ylabel(\"Inertia\")\n",
    "plt.show() "
   ]
  }
 ],
 "metadata": {
  "kernelspec": {
   "display_name": "Python 3 (ipykernel)",
   "language": "python",
   "name": "python3"
  },
  "language_info": {
   "codemirror_mode": {
    "name": "ipython",
    "version": 3
   },
   "file_extension": ".py",
   "mimetype": "text/x-python",
   "name": "python",
   "nbconvert_exporter": "python",
   "pygments_lexer": "ipython3",
   "version": "3.9.13"
  },
  "papermill": {
   "default_parameters": {},
   "duration": 14.668362,
   "end_time": "2022-12-02T02:21:10.111074",
   "environment_variables": {},
   "exception": null,
   "input_path": "__notebook__.ipynb",
   "output_path": "__notebook__.ipynb",
   "parameters": {},
   "start_time": "2022-12-02T02:20:55.442712",
   "version": "2.3.4"
  }
 },
 "nbformat": 4,
 "nbformat_minor": 5
}
